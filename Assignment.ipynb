{
 "cells": [
  {
   "cell_type": "markdown",
   "id": "343e1f89-f301-44c7-93d2-bd7b28e1163c",
   "metadata": {},
   "source": [
    "Q1. Which keyword is used to create a function? Create a function to return a list of odd numbers in the \n",
    "range of 1 to 25."
   ]
  },
  {
   "cell_type": "markdown",
   "id": "4d8c1264-ff88-4243-8214-c3b2ae502ace",
   "metadata": {},
   "source": [
    "In Python, the def keyword is used to create a function. Here's how we can create a function named get_odd_numbers that returns a list of odd numbers in the range of 1 to 25:"
   ]
  },
  {
   "cell_type": "code",
   "execution_count": 1,
   "id": "1fd40364-fde9-4412-a34d-703f489098b3",
   "metadata": {},
   "outputs": [
    {
     "name": "stdout",
     "output_type": "stream",
     "text": [
      "[1, 3, 5, 7, 9, 11, 13, 15, 17, 19, 21, 23, 25]\n"
     ]
    }
   ],
   "source": [
    "def get_odd_numbers():\n",
    "    odd_numbers = [num for num in range(1, 26) if num % 2 != 0]\n",
    "    return odd_numbers\n",
    "\n",
    "# Call the function and print the result\n",
    "result = get_odd_numbers()\n",
    "print(result)\n"
   ]
  },
  {
   "cell_type": "markdown",
   "id": "d4aa3e57-b5ae-41a6-885f-34ca1b34f3ff",
   "metadata": {},
   "source": [
    "In this example:\n",
    "\n",
    "The def keyword is used to define the function named get_odd_numbers.\n",
    "The function uses a list comprehension to generate a list of odd numbers in the range of 1 to 25.\n",
    "The return statement is used to return the list of odd numbers from the function."
   ]
  },
  {
   "cell_type": "markdown",
   "id": "6c387880-7f8c-4b6b-accb-e5e4f119148f",
   "metadata": {},
   "source": [
    "Q2. Why *args and **kwargs is used in some functions? Create a function each for *args and **kwargs \n",
    "to demonstrate their use."
   ]
  },
  {
   "cell_type": "markdown",
   "id": "a6250dae-ee06-40fd-b322-a0bf2d36268c",
   "metadata": {},
   "source": [
    "\n",
    "*args and **kwargs are used in function definitions to allow a variable number of arguments to be passed to a function.\n",
    "\n",
    "*args is used to pass a variable number of non-keyword arguments to a function. It allows the function to accept any number of positional arguments.\n",
    "\n",
    "**kwargs is used to pass a variable number of keyword arguments to a function. It allows the function to accept any number of keyword arguments.\n",
    "Here's an example demonstrating the use of *args and **kwargs:"
   ]
  },
  {
   "cell_type": "code",
   "execution_count": 2,
   "id": "9228fc15-9d69-4e57-b2a2-af8096afc5d2",
   "metadata": {},
   "outputs": [
    {
     "name": "stdout",
     "output_type": "stream",
     "text": [
      "Sum of numbers: 15\n",
      "name: John\n",
      "age: 25\n",
      "city: New York\n"
     ]
    }
   ],
   "source": [
    "# Function with *args\n",
    "def sum_all_numbers(*args):\n",
    "    total = 0\n",
    "    for number in args:\n",
    "        total += number\n",
    "    return total\n",
    "\n",
    "# Function with **kwargs\n",
    "def display_info(**kwargs):\n",
    "    for key, value in kwargs.items():\n",
    "        print(f\"{key}: {value}\")\n",
    "\n",
    "# Testing the functions\n",
    "result1 = sum_all_numbers(1, 2, 3, 4, 5)\n",
    "print(\"Sum of numbers:\", result1)\n",
    "\n",
    "result2 = display_info(name=\"John\", age=25, city=\"New York\")\n",
    "# Output: name: John\n",
    "#         age: 25\n",
    "#         city: New York\n"
   ]
  },
  {
   "cell_type": "markdown",
   "id": "3ec3f01d-96c7-4261-9b5d-6b8a84713bf7",
   "metadata": {},
   "source": [
    "In the sum_all_numbers function:\n",
    "\n",
    "*args allows you to pass any number of positional arguments.\n",
    "The function then calculates the sum of all the numbers.\n",
    "In the display_info function:\n",
    "\n",
    "**kwargs allows you to pass any number of keyword arguments.\n",
    "The function then prints the key-value pairs of the provided keyword arguments."
   ]
  },
  {
   "cell_type": "markdown",
   "id": "b4419272-249a-4ffe-8e37-c7d8c0f9c632",
   "metadata": {},
   "source": [
    "Q3.  What is an iterator in python? Name the method used to initialise the iterator object and the method \n",
    "used for iteration. Use these methods to print the first five elements of the given list [2, 4, 6, 8, 10, 12, 14, \n",
    "16, 18, 20]."
   ]
  },
  {
   "cell_type": "markdown",
   "id": "17fe7ce9-8ed3-49fd-a7bc-a2ffe1013f00",
   "metadata": {},
   "source": [
    "In Python, an iterator is an object that allows you to traverse a sequence of elements, such as a list, tuple, or string, one element at a time. Iterators implement two main methods: __iter__ and __next__.\n",
    "\n",
    "The __iter__ method is used to initialize the iterator object. It returns the iterator object itself.\n",
    "The __next__ method is used for iteration. It returns the next element in the sequence. When there are no more elements, it raises the StopIteration exception."
   ]
  },
  {
   "cell_type": "code",
   "execution_count": 3,
   "id": "05b9bcd6-e74d-40a9-833e-5bbcccd7ab79",
   "metadata": {},
   "outputs": [
    {
     "name": "stdout",
     "output_type": "stream",
     "text": [
      "2\n",
      "4\n",
      "6\n",
      "8\n",
      "10\n"
     ]
    }
   ],
   "source": [
    "# Create an iterator for the list\n",
    "my_list = [2, 4, 6, 8, 10, 12, 14, 16, 18, 20]\n",
    "my_iterator = iter(my_list)\n",
    "\n",
    "# Print the first five elements using the iterator\n",
    "for _ in range(5):\n",
    "    element = next(my_iterator)\n",
    "    print(element)\n"
   ]
  },
  {
   "cell_type": "markdown",
   "id": "a29e34d1-496b-4f74-8393-e2e53ec3cbe7",
   "metadata": {},
   "source": [
    "In this example:\n",
    "\n",
    "We use the iter() function to create an iterator object (my_iterator) for the given list.\n",
    "The for loop is used to iterate over the first five elements using the next() function, which calls the __next__ method of the iterator.\n",
    "The __next__ method returns the next element in the sequence, and we print each element."
   ]
  },
  {
   "cell_type": "markdown",
   "id": "95e30c3f-efd7-40c3-a1ab-236126e17cd3",
   "metadata": {},
   "source": [
    "Keep in mind that if you attempt to call next(my_iterator) beyond the available elements, it will raise a StopIteration exception. It's a common practice to use a loop or other constructs to iterate over the elements of an iterator without explicitly catching the StopIteration exception."
   ]
  },
  {
   "cell_type": "markdown",
   "id": "d5093092-332c-433a-a838-4b44a72b5ab1",
   "metadata": {},
   "source": [
    "Q4.  What is a generator function in python? Why yield keyword is used? Give an example of a generator \n",
    "function."
   ]
  },
  {
   "cell_type": "markdown",
   "id": "913002bc-39d2-490f-838e-464e6ac30025",
   "metadata": {},
   "source": [
    "\n",
    "A generator function in Python is a special type of function that allows you to create an iterator in a more concise and memory-efficient manner. Generator functions use the yield keyword to produce a sequence of values one at a time, instead of generating all the values at once and storing them in memory.\n",
    "\n",
    "The yield keyword is used to temporarily suspend the state of the function, allowing it to be resumed from that point with the next call to next(). This helps in creating iterators without loading the entire sequence into memory, making it more memory-efficient, especially for large datasets."
   ]
  },
  {
   "cell_type": "code",
   "execution_count": 4,
   "id": "0dd3bcc8-d2c1-4b39-987c-dbc6d6ceb729",
   "metadata": {},
   "outputs": [
    {
     "name": "stdout",
     "output_type": "stream",
     "text": [
      "0\n",
      "2\n",
      "4\n",
      "6\n",
      "8\n"
     ]
    }
   ],
   "source": [
    "def generate_even_numbers(limit):\n",
    "    current = 0\n",
    "    while current < limit:\n",
    "        yield current\n",
    "        current += 2\n",
    "\n",
    "# Using the generator function\n",
    "even_numbers_generator = generate_even_numbers(10)\n",
    "\n",
    "# Print the first five even numbers\n",
    "for _ in range(5):\n",
    "    print(next(even_numbers_generator))\n"
   ]
  },
  {
   "cell_type": "markdown",
   "id": "36e3bdf6-af78-4393-82f4-ba4698e63904",
   "metadata": {},
   "source": [
    "In this example:\n",
    "\n",
    "The generate_even_numbers function is a generator function that yields even numbers up to a specified limit.\n",
    "The yield keyword is used to produce each even number one at a time.\n",
    "The generator is created by calling generate_even_numbers(10).\n",
    "The for loop is used to iterate and print the first five even numbers using the next() function.\n",
    "The generator function allows you to generate values on-the-fly, making it memory-efficient for situations where you don't need to store the entire sequence in memory at once."
   ]
  },
  {
   "cell_type": "markdown",
   "id": "34cbcbc1-e34b-4db0-a8e9-9d98e61f5c3b",
   "metadata": {},
   "source": [
    "Q5. Create a generator function for prime numbers less than 1000. Use the next() method to print the \n",
    "first 20 prime numbers."
   ]
  },
  {
   "cell_type": "code",
   "execution_count": 5,
   "id": "7cf457fa-c374-418d-b295-702ba83d9b65",
   "metadata": {},
   "outputs": [
    {
     "name": "stdout",
     "output_type": "stream",
     "text": [
      "2\n",
      "3\n",
      "5\n",
      "7\n",
      "11\n",
      "13\n",
      "17\n",
      "19\n",
      "23\n",
      "29\n",
      "31\n",
      "37\n",
      "41\n",
      "43\n",
      "47\n",
      "53\n",
      "59\n",
      "61\n",
      "67\n",
      "71\n"
     ]
    }
   ],
   "source": [
    "def is_prime(num):\n",
    "    if num < 2:\n",
    "        return False\n",
    "    for i in range(2, int(num**0.5) + 1):\n",
    "        if num % i == 0:\n",
    "            return False\n",
    "    return True\n",
    "\n",
    "def generate_primes(limit):\n",
    "    current = 2\n",
    "    count = 0\n",
    "    while current < limit and count < 20:\n",
    "        if is_prime(current):\n",
    "            yield current\n",
    "            count += 1\n",
    "        current += 1\n",
    "\n",
    "# Using the generator function to print the first 20 prime numbers\n",
    "prime_generator = generate_primes(1000)\n",
    "\n",
    "for _ in range(20):\n",
    "    print(next(prime_generator))\n"
   ]
  },
  {
   "cell_type": "markdown",
   "id": "0126f53b-038a-4a81-8a47-6db24119c2cd",
   "metadata": {},
   "source": [
    "Q6. Write a python program to print the first 10 Fibonacci numbers using a while loop."
   ]
  },
  {
   "cell_type": "code",
   "execution_count": 6,
   "id": "76069e74-9318-42dc-a60d-12a6c4675e94",
   "metadata": {},
   "outputs": [
    {
     "name": "stdout",
     "output_type": "stream",
     "text": [
      "First 10 Fibonacci numbers: [0, 1, 1, 2, 3, 5, 8, 13, 21, 34]\n"
     ]
    }
   ],
   "source": [
    "# Function to print the first n Fibonacci numbers\n",
    "def print_fibonacci(n):\n",
    "    fib_numbers = []\n",
    "    a, b = 0, 1\n",
    "    count = 0\n",
    "\n",
    "    while count < n:\n",
    "        fib_numbers.append(a)\n",
    "        a, b = b, a + b\n",
    "        count += 1\n",
    "\n",
    "    return fib_numbers\n",
    "\n",
    "# Print the first 10 Fibonacci numbers\n",
    "first_10_fibonacci = print_fibonacci(10)\n",
    "print(\"First 10 Fibonacci numbers:\", first_10_fibonacci)\n"
   ]
  },
  {
   "cell_type": "markdown",
   "id": "7e6ed4ff-b2d4-42b1-9f53-f1ea67e2c930",
   "metadata": {},
   "source": [
    "Q7. Write a List Comprehension to iterate through the given string: ‘pwskills’.\n",
    "\n",
    "Expected output: ['p', 'w', 's', 'k', 'i', 'l', 'l', 's'] "
   ]
  },
  {
   "cell_type": "code",
   "execution_count": 7,
   "id": "9107ffb4-da92-42d5-b7ff-e57a17c37517",
   "metadata": {},
   "outputs": [
    {
     "name": "stdout",
     "output_type": "stream",
     "text": [
      "['p', 'w', 's', 'k', 'i', 'l', 'l', 's']\n"
     ]
    }
   ],
   "source": [
    "input_string = 'pwskills'\n",
    "\n",
    "result_list = [char for char in input_string]\n",
    "print(result_list)\n"
   ]
  },
  {
   "cell_type": "markdown",
   "id": "ad5984ae-a4ea-4103-a322-e791d5d21d3a",
   "metadata": {},
   "source": [
    "Q8. Write a python program to check whether a given number is Palindrome or not using a while loop."
   ]
  },
  {
   "cell_type": "code",
   "execution_count": 8,
   "id": "e710420c-1321-46a8-a22a-ad138de4a2f1",
   "metadata": {},
   "outputs": [
    {
     "name": "stdin",
     "output_type": "stream",
     "text": [
      "Enter a number:  10001\n"
     ]
    },
    {
     "name": "stdout",
     "output_type": "stream",
     "text": [
      "10001 is a palindrome.\n"
     ]
    }
   ],
   "source": [
    "def is_palindrome(number):\n",
    "    original_number = number\n",
    "    reversed_number = 0\n",
    "\n",
    "    while number > 0:\n",
    "        digit = number % 10\n",
    "        reversed_number = (reversed_number * 10) + digit\n",
    "        number = number // 10\n",
    "\n",
    "    return original_number == reversed_number\n",
    "\n",
    "# Example usage\n",
    "user_input = int(input(\"Enter a number: \"))\n",
    "\n",
    "if is_palindrome(user_input):\n",
    "    print(f\"{user_input} is a palindrome.\")\n",
    "else:\n",
    "    print(f\"{user_input} is not a palindrome.\")\n"
   ]
  },
  {
   "cell_type": "markdown",
   "id": "e28bf095-43ba-47d0-8185-548596225c2f",
   "metadata": {},
   "source": [
    "Q9. Write a code to print odd numbers from 1 to 100 using list comprehension."
   ]
  },
  {
   "cell_type": "code",
   "execution_count": 9,
   "id": "dc2ce637-a5f7-4988-8f7e-19fbc7ec4426",
   "metadata": {},
   "outputs": [
    {
     "name": "stdout",
     "output_type": "stream",
     "text": [
      "[1, 3, 5, 7, 9, 11, 13, 15, 17, 19, 21, 23, 25, 27, 29, 31, 33, 35, 37, 39, 41, 43, 45, 47, 49, 51, 53, 55, 57, 59, 61, 63, 65, 67, 69, 71, 73, 75, 77, 79, 81, 83, 85, 87, 89, 91, 93, 95, 97, 99]\n"
     ]
    }
   ],
   "source": [
    "odd_numbers = [num for num in range(1, 101) if num % 2 != 0]\n",
    "\n",
    "print(odd_numbers)\n"
   ]
  },
  {
   "cell_type": "code",
   "execution_count": null,
   "id": "27de44f6-eb2a-479b-9c2a-7db7a91343c9",
   "metadata": {},
   "outputs": [],
   "source": []
  }
 ],
 "metadata": {
  "kernelspec": {
   "display_name": "Python 3 (ipykernel)",
   "language": "python",
   "name": "python3"
  },
  "language_info": {
   "codemirror_mode": {
    "name": "ipython",
    "version": 3
   },
   "file_extension": ".py",
   "mimetype": "text/x-python",
   "name": "python",
   "nbconvert_exporter": "python",
   "pygments_lexer": "ipython3",
   "version": "3.11.7"
  }
 },
 "nbformat": 4,
 "nbformat_minor": 5
}
